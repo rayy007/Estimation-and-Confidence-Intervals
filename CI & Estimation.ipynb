{
 "cells": [
  {
   "metadata": {},
   "cell_type": "markdown",
   "source": [
    "##Data\n",
    "A total of 15 print-heads were randomly selected and tested until failure. The durability of each print-head (in millions of characters) was recorded as follows:\n",
    "1.13, 1.55, 1.43, 0.92, 1.25, 1.36, 1.32, 0.85, 1.07, 1.48, 1.20, 1.33, 1.18, 1.22, 1.29\n",
    "\n",
    "##Assignment Tasks\n",
    "#a. Build 99% Confidence Interval Using Sample Standard Deviation\n",
    "Assuming the sample is representative of the population, construct a 99% confidence interval for the mean number of characters printed before the print-head fails using the sample standard deviation. Explain the steps you take and the rationale behind using the t-distribution for this task.\n",
    "#b. Build 99% Confidence Interval Using Known Population Standard Deviation\n",
    "If it were known that the population standard deviation is 0.2 million characters, construct a 99% confidence interval for the mean number of characters printed before failure.\n"
   ],
   "id": "d8c37b064efb4966"
  },
  {
   "metadata": {
    "ExecuteTime": {
     "end_time": "2025-05-26T13:42:00.118105Z",
     "start_time": "2025-05-26T13:42:00.103956Z"
    }
   },
   "cell_type": "code",
   "source": [
    "import numpy as np\n",
    "import scipy.stats as stats\n",
    "from scipy import stats\n",
    "import matplotlib.pyplot as plt\n",
    "\n",
    "#Given:\n",
    " # Sample data\n",
    "data = [1.13, 1.55, 1.43, 0.92, 1.25, 1.36, 1.32, 0.85, 1.07, 1.48, 1.20, 1.33, 1.18, 1.22, 1.29]\n",
    "n = len(data) #n is sample size\n",
    "sample_mean = np.mean(data)\n",
    "sample_std = np.std(data)\n",
    "conf_level = 0.99 #confidence level is 99%\n",
    "alpha = 1 - conf_level #alpha is the error\n",
    "\n",
    "#Task:a\n",
    "# Here, we have a 1 sample data with its standard deviation(sample) and its size is less than 30. Since, we don't know the population standard deviation we should build Class interval using t-distribution.\n",
    "# t-distribution for CI\n",
    "t_criti = stats.t.ppf(1 - alpha/2, df=n-1) #df is the degree of freedom\n",
    "ME_t = t_criti * (sample_std / np.sqrt(n)) #margin error\n",
    "ci_t = (sample_mean - ME_t, sample_mean + ME_t) #confidence interval\n",
    "ci_t_min=ci_t[0]\n",
    "ci_t_max=ci_t[1]\n",
    "#OR\n",
    "t_interval=stats.t.interval(conf_level,n-1,loc=sample_mean,scale=sample_std/np.sqrt(n))\n",
    "t_interval_min=t_interval[0]\n",
    "t_interval_max=t_interval[1]\n",
    "#####Task:b In this case,the population standard deviation  is given. Hence, we should build Class interval using normal/ z-distribution.\n",
    "pop_std = 0.2 #As given the standard deviation of population is 0.2.\n",
    "# z-distribution for CI\n",
    "z_criti = stats.norm.ppf(1 - alpha/2)\n",
    "ME_z = z_criti * (pop_std / np.sqrt(n))\n",
    "ci_z = (sample_mean - ME_z, sample_mean + ME_z)\n",
    "ci_z_min=ci_z[0]\n",
    "ci_z_max=ci_z[1]\n",
    "#OR\n",
    "norm_interval=stats.norm.interval(conf_level,loc=sample_mean,scale=pop_std/np.sqrt(n))\n",
    "norm_interval_min=norm_interval[0]\n",
    "norm_interval_max=norm_interval[1]\n",
    "\n",
    "print(f\"Task(a):Confidence Interval for 99% of sample using t-distribution:({ci_t_min} to {ci_t_max}) million characters.\\n Task(b):Confidence Interval for 99% of Population using z-distribution:({ci_z_min} to {ci_z_max}) million characters\")\n",
    "print(\"using stats.t.interval and stats.norm.interval\")\n",
    "print(f\"Task(a):Confidence Interval for 99% of sample using t-distribution:({t_interval_min} to {t_interval_max}) million characters.\\n Task(b):Confidence Interval for 99% of Population using z-distribution:({norm_interval_min} to {norm_interval_max}) million characters\")\n",
    "#print(\"As we see the class interval for both t and normal distribution are found to be very close. The reason may be the sample standard deviation is vey close to the population standard deviation and confidence level is same.\")"
   ],
   "id": "21f24c993e79dd0e",
   "outputs": [
    {
     "name": "stdout",
     "output_type": "stream",
     "text": [
      "Task(a):Confidence Interval for 99% of sample using t-distribution:(1.095231668626123 to 1.3821016647072102) million characters.\n",
      " Task(b):Confidence Interval for 99% of Population using z-distribution:(1.1056514133957607 to 1.3716819199375725) million characters\n",
      "using stats.t.interval and stats.norm.interval\n",
      "Task(a):Confidence Interval for 99% of sample using t-distribution:(1.095231668626123 to 1.3821016647072102) million characters.\n",
      " Task(b):Confidence Interval for 99% of Population using z-distribution:(1.1056514133957607 to 1.3716819199375725) million characters\n"
     ]
    }
   ],
   "execution_count": 1
  },
  {
   "metadata": {
    "ExecuteTime": {
     "end_time": "2025-05-26T13:42:00.686219Z",
     "start_time": "2025-05-26T13:42:00.682882Z"
    }
   },
   "cell_type": "code",
   "source": "",
   "id": "5582a5cc74afafcf",
   "outputs": [],
   "execution_count": null
  }
 ],
 "metadata": {},
 "nbformat": 4,
 "nbformat_minor": 5
}
